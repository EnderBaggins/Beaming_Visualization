{
 "cells": [
  {
   "cell_type": "code",
   "execution_count": 2,
   "metadata": {},
   "outputs": [
    {
     "data": {
      "text/html": [
       "<pre style=\"white-space:pre;overflow-x:auto;line-height:normal;font-family:Menlo,'DejaVu Sans Mono',consolas,'Courier New',monospace\">Manim Community <span style=\"color: #008000; text-decoration-color: #008000\">v0.17.3</span>\n",
       "\n",
       "</pre>\n"
      ],
      "text/plain": [
       "Manim Community \u001b[32mv0.\u001b[0m\u001b[32m17.3\u001b[0m\n",
       "\n"
      ]
     },
     "metadata": {},
     "output_type": "display_data"
    }
   ],
   "source": [
    "from manim import *\n",
    "config.verbosity = \"WARNING\""
   ]
  },
  {
   "cell_type": "code",
   "execution_count": 94,
   "metadata": {},
   "outputs": [
    {
     "name": "stderr",
     "output_type": "stream",
     "text": [
      "                                                                                              \r"
     ]
    },
    {
     "data": {
      "text/html": [
       "<video src=\"media\\jupyter\\accel@2023-08-07@14-22-03.mp4\" controls autoplay loop style=\"max-width: 60%;\"  >\n",
       "      Your browser does not support the <code>video</code> element.\n",
       "    </video>"
      ],
      "text/plain": [
       "<IPython.core.display.Video object>"
      ]
     },
     "metadata": {},
     "output_type": "display_data"
    }
   ],
   "source": [
    "%%manim accel \n",
    "class accel(Scene):\n",
    "    def construct(self):\n",
    "\n",
    "        t_param = ValueTracker(0)\n",
    "\n",
    "\n",
    "        electron = always_redraw(lambda: Dot(point=((t_param.get_value())-7,0,0),color=RED, radius=0.1))\n",
    "        electext = always_redraw(lambda: MathTex(\"electron\", color=RED).next_to(electron, DOWN))\n",
    "        vel = always_redraw(lambda: Arrow(start=electron.get_center(), end=electron.get_center()+0.5*(t_param.get_value())*RIGHT, color=BLUE))\n",
    "        veltext = always_redraw(lambda: MathTex(\"velocity\", color=BLUE).next_to(vel, UP))\n",
    "\n",
    "        #radiation = Circle( color=YELLOW, fill_opacity=0.3).add_updater(movement)\n",
    "        radiation =always_redraw(lambda: Polygon(electron.get_center(),electron.get_center() + 3*UP+1*LEFT,electron.get_center()+3*UP+1*RIGHT,color=YELLOW, fill_opacity=0.3))\n",
    "        radiation2 = always_redraw(lambda: Polygon(electron.get_center(),electron.get_center() + 3*DOWN+1*LEFT,electron.get_center()+3*DOWN+1*RIGHT,color=YELLOW, fill_opacity=0.3))\n",
    "        radiationtext = always_redraw(lambda: MathTex(\"radiation\", color=YELLOW).next_to(radiation, UP,buff=0.02))\n",
    "        accel = Vector(RIGHT,color=GREEN).move_to(UR)\n",
    "        acceltext = MathTex(\"acceleration\", color=GREEN).next_to(accel, UP+RIGHT,buff=0.01)\n",
    "        lowspeed = MathTex(\"v<<c\", color=BLUE).move_to(3*UP+5*RIGHT)\n",
    "\n",
    "        self.add(electron,vel,veltext,radiation,electext,radiationtext,radiation2,accel,acceltext,lowspeed)\n",
    "        self.play(t_param.animate.set_value(16), run_time=10, rate_func=rate_functions.ease_in_quad)\n",
    "\n",
    "        '''\n",
    "        First we begin with the idea that accelerating charges accelerate perpendicular to their acceleration\n",
    "        This is an example where acceleration is parallel to velocty\n",
    "        Note that this is only during nonrelativistic speeds\n",
    "        '''"
   ]
  },
  {
   "cell_type": "code",
   "execution_count": 86,
   "metadata": {},
   "outputs": [
    {
     "name": "stderr",
     "output_type": "stream",
     "text": [
      "                                                                                              \r"
     ]
    },
    {
     "data": {
      "text/html": [
       "<video src=\"media\\jupyter\\beamaccel@2023-08-08@11-46-49.mp4\" controls autoplay loop style=\"max-width: 60%;\"  >\n",
       "      Your browser does not support the <code>video</code> element.\n",
       "    </video>"
      ],
      "text/plain": [
       "<IPython.core.display.Video object>"
      ]
     },
     "metadata": {},
     "output_type": "display_data"
    }
   ],
   "source": [
    "%%manim beamaccel \n",
    "class beamaccel(Scene):\n",
    "    def construct(self):\n",
    "        t_param = ValueTracker(0)\n",
    "        beam_length = 4\n",
    "\n",
    "        emission_angle = lambda t: 60-t*12 #In Degrees showing a relation between velocity and pitch angle\n",
    "\n",
    "        electron = always_redraw(lambda: Dot(point=((t_param.get_value())-7,0,0),color=RED, radius=0.1))\n",
    "        electext = always_redraw(lambda: MathTex(\"electron\", color=RED).next_to(electron, DOWN))\n",
    "        vel = always_redraw(lambda: Arrow(start=electron.get_center(), end=electron.get_center()+0.5*(t_param.get_value())*RIGHT, color=BLUE))\n",
    "        veltext = always_redraw(lambda: MathTex(\"velocity\", color=BLUE).next_to(vel, UP))\n",
    "        # p1 = lambda t:electron.get_center()+(-1+0.2*t)*RIGHT+UP*(3-0.1*t)\n",
    "        # p2 = lambda t:electron.get_center()+(1+0.1*t)*RIGHT+UP*(3-0.2*t)\n",
    "        # radiation = always_redraw(lambda: Polygon(electron.get_center(),p1(t_param.get_value()),p2(t_param.get_value())))\n",
    "        def rad(mobj):\n",
    "            mobj.become(Polygon(electron.get_center(),\n",
    "                                electron.get_center()+3*UP+LEFT/(0.5+0.1*t_param.get_value()),\n",
    "                                electron.get_center()+3*UP+RIGHT/(0.5+0.1*t_param.get_value()), color=YELLOW, fill_opacity=0.3)).shift(RIGHT*(electron.get_center()-mobj.get_center()[0])).rotate(-5*t_param.get_value()*DEGREES,axis=OUT, about_point=electron.get_center())\n",
    "        radiation = Polygon(electron.get_center(),electron.get_center()+3*UP+LEFT,electron.get_center()+3*UP+RIGHT, color=YELLOW, fill_opacity=0.3)\n",
    "        radiation.add_updater(rad)\n",
    "        radiation2 = Polygon(electron.get_center(),electron.get_center()+3*UP+LEFT,electron.get_center()+3*UP+RIGHT, color=YELLOW, fill_opacity=0.3).flip(axis=RIGHT)\n",
    "        def red2(mobj):\n",
    "            mobj.become(radiation.copy().rotate(180*DEGREES,axis=RIGHT, about_point=electron.get_center()))\n",
    "        radiation2.add_updater(red2)\n",
    "        #radiation = always_redraw(lambda: Polygon(electron.get_center(),electron.get_center()+beam_length *(RIGHT+UP*np.tan(np.deg2rad(emission_angle(t_param.get_value())))),electron.get_center()+beam_length *(RIGHT+DOWN*np.tan(np.deg2rad(emission_angle(t_param.get_value())))), color=YELLOW, fill_opacity=0.3))\n",
    "        #radiationtext = always_redraw(lambda: MathTex(\"radiation\", color=YELLOW).next_to(radiation, RIGHT,buff=0.01))\n",
    "\n",
    "        highspeed = MathTex(r\"v \\approx c\", color=BLUE).move_to(3*UP+5*RIGHT)\n",
    "        rvec = always_redraw(lambda: Arrow(start = electron.get_center(),end=radiation.get_right(), color=BLUE))\n",
    "        lvec = always_redraw(lambda: Arrow(start = electron.get_center(),end=radiation.get_up(), color=BLUE))\n",
    "        angle = always_redraw(lambda: Angle(rvec,lvec, radius=0.5, other_angle=False, color=BLUE))\n",
    "        \n",
    "        \n",
    "        self.add(electron,vel,veltext,radiation,electext,radiation2,highspeed,angle)\n",
    "        self.play(t_param.animate.set_value(16.9), run_time=10, rate_func=rate_functions.ease_in_quad)\n",
    "        #\n",
    "        '''\n",
    "        Next we look at the Beaming effect in this case, as v goes towards c, the radiation is beamed in the direction of motion.\n",
    "        \n",
    "        Add Beaming effect text on the top or the bottom of the screen\n",
    "        '''"
   ]
  },
  {
   "cell_type": "code",
   "execution_count": 360,
   "metadata": {},
   "outputs": [
    {
     "name": "stderr",
     "output_type": "stream",
     "text": [
      "Animation 21: _MethodAnimation(MathTex('\\\\vec{B}')):   0%|          | 0/1 [00:00<?, ?it/s]                                                                    c:\\Users\\nxrni\\Documents\\manim-project\\.venv\\Lib\\site-packages\\manim\\scene\\scene.py:1477: RuntimeWarning: invalid value encountered in scalar divide\n",
      "  alpha = t / animation.run_time\n",
      "                                                                                                                                                                  \r"
     ]
    },
    {
     "data": {
      "text/html": [
       "<video src=\"media\\jupyter\\eom1@2023-08-03@15-03-25.mp4\" controls autoplay loop style=\"max-width: 60%;\"  >\n",
       "      Your browser does not support the <code>video</code> element.\n",
       "    </video>"
      ],
      "text/plain": [
       "<IPython.core.display.Video object>"
      ]
     },
     "metadata": {},
     "output_type": "display_data"
    }
   ],
   "source": [
    "%%manim eom1\n",
    "class eom1(Scene):\n",
    "    def construct(self):\n",
    "        #Making the two equations and the intermediate steps of solving them\n",
    "        mageqn1 = MathTex(r\"{{\\frac{d}{dt} (\\gamma m \\vec{v})}} = \\frac{e}{c} \\vec{v} \\times \\vec{B}\").move_to(.6*UP)\n",
    "        mageqn2 = MathTex(r\"{{\\gamma m \\frac{d \\vec{v} }{dt}}} = \\frac{e}{c} \\vec{v} \\times \\vec{B}\")\n",
    "        \n",
    "        eleceqn1 = MathTex(r\"{{\\frac{d}{dt}}} {{(\\gamma m c^2)}} = e \\vec{v} \\cdot {{\\vec{E}}}\").move_to(.6*DOWN)\n",
    "        eleceqn2 = MathTex(r\"{{\\frac{d}{dt}}} {{(\\gamma m c^2)}} = e \\vec{v} \\cdot {{0}}\")\n",
    "        eleceqn3 = MathTex( r\"\\gamma {{m c^2}}=  constant\")\n",
    "        eleceqn4 = MathTex( r\"\\gamma {{}} =  constant\")\n",
    "        \n",
    "        mathsurround = SurroundingRectangle(Group(mageqn1,eleceqn1),color=BLUE)\n",
    "\n",
    "        maths = Group(mageqn1,eleceqn1,mathsurround)\n",
    "\n",
    "        #Making the vectors that Show how magnetic equation finds accel\n",
    "        magfield = Vector(direction=2*UP,color=RED)\n",
    "        magtext = MathTex(r\"\\vec{B}\",color=RED).scale(0.7).next_to(magfield,UP)\n",
    "        vel = Vector(direction=2*RIGHT,color=BLUE)#.shift(2**RIGHT)\n",
    "        veltext = MathTex(r\"\\vec{v}\",color=BLUE).scale(0.7).next_to(vel,RIGHT)\n",
    "        intomagfield = Tex(r\"x\",color=RED).scale(1.3)\n",
    "        accel = Vector(direction=2*UP,color=GREEN)#.shift(2*RIGHT)\n",
    "        acceltext = MathTex(r\"\\frac{d\\vec{v}}{dt}\",color=GREEN).scale(0.7).next_to(accel,UP)\n",
    "\n",
    "        #Now show a perpedicular to v\n",
    "        perp1= MathTex(r\"\\frac{d\\vec{v}}{dt} \\perp \\vec{v}\").move_to(4*LEFT)\n",
    "        perp2= MathTex(r\"\\vec{a} \\perp \\vec{v}\").move_to(perp1)\n",
    "\n",
    "        finalgroup = Group(perp1,eleceqn4)\n",
    "        #Making ther equations and putting in TOP LEFT\n",
    "        self.add(maths)\n",
    "        self.play(maths.animate.shift(5.5*LEFT+3*UP).scale(0.5),run_time=1)\n",
    "        self.wait(1)\n",
    "        \n",
    "        #Doing all the solving of the electric field equation\n",
    "        self.play(eleceqn1.animate.move_to(ORIGIN).scale(2),run_time=1)\n",
    "        self.wait(1)\n",
    "        self.play(ReplacementTransform(eleceqn1[4],eleceqn2[4]),run_time=1)\n",
    "        self.wait(1)\n",
    "        self.play(ReplacementTransform(eleceqn1,eleceqn3),run_time=1)\n",
    "        self.wait(1)\n",
    "        self.play(ReplacementTransform(eleceqn3,eleceqn4),run_time=1)\n",
    "        self.wait(1)\n",
    "        self.play(eleceqn4.animate.move_to(mageqn1.get_center()+0.5*DOWN).scale(0.5),run_time=1)\n",
    "        self.wait(1)\n",
    "        \n",
    "        \n",
    "        #Solving the Magnetic Field Equation\n",
    "        self.play(mageqn1.animate.move_to(ORIGIN).scale(2),run_time=1)\n",
    "        self.wait(1)\n",
    "        self.play(ReplacementTransform(mageqn1[0],mageqn2[0]),run_time=1)\n",
    "        self.wait(1)\n",
    "        self.play(mageqn1.animate.shift(4*LEFT))\n",
    "        self.wait(1)\n",
    "        \n",
    "        #Making the vectors that Show how magnetic equation finds accel\n",
    "        self.play(Write(magfield),Write(vel),Write(magtext),Write(veltext))\n",
    "        self.wait(1)\n",
    "        self.play(magfield.animate.rotate(PI/2,axis=RIGHT,about_point=ORIGIN),magtext.animate.move_to(ORIGIN+0.5*DOWN),run_time=1)\n",
    "        self.add(intomagfield)\n",
    "        self.play(magtext.animate.next_to(magfield,DOWN),run_time=0)\n",
    "        self.wait(1)\n",
    "        self.play(Write(accel),Transform(mageqn1[0].copy(),acceltext),run_time=1)\n",
    "        self.remove(mageqn1)\n",
    "        self.wait(1)\n",
    "        self.play(ReplacementTransform(mageqn1,perp1),run_time=1)\n",
    "        self.wait(1)\n",
    "        self.play(ReplacementTransform(perp1,perp2),run_time=1)\n",
    "        self.remove(perp2)\n",
    "        self.wait(1)\n",
    "        self.play(perp1.animate.shift(1.5*LEFT+3.2*UP).scale(0.75),run_time=1)\n",
    "        self.wait(1)\n",
    "        #Throwing it to the final screen\n",
    "        #elf.play(Transform(*self.mobjects,finalgroup),run_time=1)\n",
    "        self.remove(*self.mobjects)\n",
    "        self.add(finalgroup)\n",
    "        self.play(finalgroup.animate.move_to(ORIGIN).scale(2),run_time=1)\n",
    "        self.wait(1)\n",
    "\n",
    "        ''' \n",
    "        Next we derive the equations of motion of an electron in a magnetic field and show that the electron moves in a circle with radius prop to v\n",
    "        technically inversely prop to B but we look at only the constant B case\n",
    "\n",
    "        Improve the derivation at the beginning\n",
    "        '''"
   ]
  },
  {
   "cell_type": "code",
   "execution_count": 87,
   "metadata": {},
   "outputs": [
    {
     "name": "stderr",
     "output_type": "stream",
     "text": [
      "                                                                                                                                            \r"
     ]
    },
    {
     "data": {
      "text/html": [
       "<video src=\"media\\jupyter\\cases@2023-08-08@11-48-23.mp4\" controls autoplay loop style=\"max-width: 60%;\"  >\n",
       "      Your browser does not support the <code>video</code> element.\n",
       "    </video>"
      ],
      "text/plain": [
       "<IPython.core.display.Video object>"
      ]
     },
     "metadata": {},
     "output_type": "display_data"
    }
   ],
   "source": [
    "%%manim cases\n",
    "class cases(Scene):\n",
    "    def construct(self):\n",
    "        mageqn = MathTex(r\"{{\\gamma m \\vec{a}}} = \\frac{e}{c} \\vec{v} \\times \\vec{B}\")\n",
    "        mageqn = VGroup(mageqn,SurroundingRectangle(mageqn, buff=.1,color=BLUE))\n",
    "\n",
    "        case1 = MathTex(r\"\\vec{v} \\parallel \\vec{B}\")\n",
    "        case1 = VGroup(case1, SurroundingRectangle(case1))\n",
    "        case2 = MathTex(r\"\\vec{v} \\perp \\vec{B}\")\n",
    "        case2 = VGroup(case2, SurroundingRectangle(case2))\n",
    "\n",
    "        #You can also think of the cross product as how much they Cross each other\n",
    "        #If they are parallel, they don't cross at all\n",
    "        #If they are perpendicular, they cross the most\n",
    "        #If they are at some angle, they cross some amount\n",
    "        magfield = Vector(direction=UP, color=RED)\n",
    "        magfieldtext = MathTex(r\"\\vec{B}\").next_to(magfield, UP)\n",
    "        elecfield = Vector(direction=UP, color=BLUE).shift(RIGHT)\n",
    "        elecfieldtext = MathTex(r\"\\vec{v}\").next_to(elecfield, UP)\n",
    "        case1group = VGroup(magfield, magfieldtext, elecfield, elecfieldtext)\n",
    "        case1sol = MathTex(r\"\\vec{v}_{\\parallel} \\times \\vec{B} = 0\")\n",
    "\n",
    "        #Now we need case 2\n",
    "        axes = ThreeDAxes()\n",
    "\n",
    "        origin = axes.c2p(0,0,0)\n",
    "        rad =ValueTracker(1) #This is the radius of the circle\n",
    "        t_param = ValueTracker(-PI/2) #This is a parameter that will be used to animate the arrow\n",
    "        r = lambda t: origin +(rad.get_value()*np.cos(t), rad.get_value()*np.sin(t),0) #Defines a parametric circle that starts on x-axis and rotates ccw\n",
    "        \n",
    "\n",
    "        veldir1 = lambda t: np.cross((0,0,1),r(t)) #This is the direction of the velocity\n",
    "        veldir = lambda t: veldir1(t)/np.linalg.norm(veldir1(t)) #This is the unit vector of the velocity\n",
    "        vel = always_redraw(lambda: Arrow( start = r(t_param.get_value()), \n",
    "                                            end = r(t_param.get_value())+rad.get_value()*1.1*veldir(t_param.get_value()), \n",
    "                                            color = BLUE,buff=0,max_tip_length_to_length_ratio=0.1)) #The initial placement of the velocity arrow\n",
    "        veltext = always_redraw(lambda: MathTex(r\"\\vec{v}\",color=BLUE).next_to(vel, veldir(t_param.get_value())))\n",
    "        accel = always_redraw(lambda: Arrow( start = r(t_param.get_value()), \n",
    "                                            end = ORIGIN+0.5*r(t_param.get_value()), \n",
    "                                            color = GREEN,buff=0,max_tip_length_to_length_ratio=0.1)) #The initial placement of the velocity arrow\n",
    "        acceltext = always_redraw(lambda: MathTex(r\"\\vec{a}\",color=GREEN).next_to(accel, ORIGIN-0.5*r(t_param.get_value())))\n",
    "        circle = always_redraw(lambda: Circle(radius=rad.get_value(),color=RED).move_to(origin))\n",
    "        \n",
    "        points = [(1.5,1.5,0),(-1.5,0,0),(1.5,0,0),(0,0,0),(0,-1.5,0),(0,1.5,0),(-1.5,1.5,0),(1.5,-1.5,0),(-1.5,-1.5,0)] #Technically generalizable but eh\n",
    "        intomag = [Tex(r\"x\",color=RED).move_to(p) for p in points]\n",
    "        intomagtext = MathTex(r\"\\vec{B}\",color=RED).next_to(intomag[0], UP+RIGHT)\n",
    "        intomaggroup = VGroup(intomagtext)\n",
    "        intomaggroup.add(*intomag)\n",
    "\n",
    "        \n",
    "        self.play(Write(mageqn))\n",
    "        self.play(mageqn.animate.scale(0.5).to_corner(UL))\n",
    "        #Case 1\n",
    "        self.play(Write(case1))\n",
    "        self.wait(1)\n",
    "        self.play(case1.animate.shift(3.5*UP))\n",
    "        self.play(Write(case1group))\n",
    "        self.play(case1group.animate.shift(2*RIGHT))\n",
    "        self.play(Write(case1sol.shift(LEFT)))\n",
    "        self.play(case1sol.animate.shift(4.7*LEFT+2.6*UP).scale(0.5),FadeOut(case1group),FadeOut(case1))\n",
    "        self.play(Write(SurroundingRectangle(case1sol, buff=.1,color=BLUE)))\n",
    "        \n",
    "        #Now we need case 2\n",
    "        \n",
    "        self.play(Write(case2))\n",
    "        self.wait(1)\n",
    "        self.play(case2.animate.shift(3.5*UP))\n",
    "        \n",
    "        self.play(Write(vel),Write(veltext))\n",
    "        self.play(Write(intomaggroup))\n",
    "        self.play(Write(accel),Write(acceltext),Write(circle))\n",
    "        self.play(t_param.animate.set_value(3*PI/2),rate_func=linear,run_time=2)\n",
    "        self.wait(1)\n",
    "        self.play(rad.animate.set_value(3),t_param.animate.set_value(7*PI/2),rate_func=linear,run_time=2)\n",
    "        \n",
    "\n",
    "\n",
    "        self.wait(2)\n",
    "        ''' \n",
    "        Here we are looking at two different extreme cases for the velocity of the electron.\n",
    "        This will provide us out basis for the general v case\n",
    "        '''"
   ]
  },
  {
   "cell_type": "code",
   "execution_count": 11,
   "metadata": {},
   "outputs": [
    {
     "name": "stdout",
     "output_type": "stream",
     "text": [
      "-0.01821859343729944 -0.02780042445035463\n",
      "4.4227963267945825 4.9487963267945245\n"
     ]
    },
    {
     "name": "stderr",
     "output_type": "stream",
     "text": [
      "                                                                                              \r"
     ]
    },
    {
     "data": {
      "text/html": [
       "<video src=\"media\\jupyter\\beam2d@2023-08-08@10-45-33.mp4\" controls autoplay loop style=\"max-width: 60%;\"  >\n",
       "      Your browser does not support the <code>video</code> element.\n",
       "    </video>"
      ],
      "text/plain": [
       "<IPython.core.display.Video object>"
      ]
     },
     "metadata": {},
     "output_type": "display_data"
    }
   ],
   "source": [
    "%%manim beam2d\n",
    "'''\n",
    "Here we are wanting to show the 2D circular beaming effect\n",
    "Talk about how it effects frequency and intensity of the spectrum\n",
    "\n",
    "Talk about how accel is perp to v causeing beaming along the velocity direction\n",
    "technically a small bump behind it but irrelevant for our purposes\n",
    "'''\n",
    "class beam2d(Scene):\n",
    "    def construct(self):\n",
    "        rad=2\n",
    "        pitch_angle =15  #Degrees\n",
    "        triangle_len = 7\n",
    "        axes = ThreeDAxes()\n",
    "\n",
    "        origin = axes.c2p(0,0,0)\n",
    "        observer = Dot(point=origin + (4,-2,0), color=WHITE)\n",
    "        \n",
    "\n",
    "        x1 = origin +rad*RIGHT\n",
    "        \n",
    "        r = lambda t: origin + (rad*np.cos(t), rad*np.sin(t),0) #Defines a parametric circle that starts on x-axis and rotates ccw\n",
    "        curve = ParametricFunction(r, color=RED, t_range=[0, 2*PI])\n",
    "        #r90 = lambda t: origin - rad*RIGHT*np.sin(t) + rad*UP*np.cos(t) #is r but further along path by 1/4 of a circle (i.e. 90 degrees)\n",
    "        r90 = lambda t: origin + (rad*np.cos(PI/2+t), rad*np.sin(PI/2+t),0)\n",
    "        beamdir = lambda t: r90(t)*np.tan(np.deg2rad(90-pitch_angle)-origin) #The direction relative to the electron emitting the beam\n",
    "        rightr = lambda t: (r(t) + beamdir(t))/np.linalg.norm(r(t)+beamdir(t)) #The outer pointing arrow\n",
    "        leftr = lambda t: (-r(t) + beamdir(t))/np.linalg.norm(-r(t)+beamdir(t))\n",
    "\n",
    "        obslope = lambda t: (observer.get_center()[1] - r(t))[1]/(observer.get_center()[0] - r(t))[0] #Slope from observer to electron\n",
    "        rightslope = lambda t: ((rightr(t))[1])/((rightr(t))[0]) #slope from outer arrow to electron   \n",
    "        leftslope = lambda t: ((leftr(t))[1])/((leftr(t))[0]) #slope from inner arrow to electron\n",
    "        \n",
    "\n",
    "        points = [(1.5,1.5,0),(-1.5,0,0),(1.5,0,0),(0,0,0),(0,-1.5,0),(0,1.5,0),(-1.5,1.5,0),(1.5,-1.5,0),(-1.5,-1.5,0),\n",
    "                    (-3,-3,0),(-3,-1.5,0),(-3,0,0),(-3,1.5,0),(-3,3,0),(-1.5,-3,0),(-1.5,3,0),\n",
    "                    (0,-3,0),(0,3,0),(1.5,-3,0),(1.5,3,0),(3,3,0),(3,1.5,0),(3,0,0),(3,-1.5,0),(3,-3,0)] #Technically generalizable but eh\n",
    "        intomag = [Tex(r\"x\",color=RED).move_to(p) for p in points]\n",
    "        intomagtext = MathTex(r\"\\vec{B}\",color=RED).next_to(intomag[0], UP+RIGHT)\n",
    "        intomaggroup = VGroup(intomagtext)\n",
    "        intomaggroup.add(*intomag)\n",
    "\n",
    "        #When the slopes of the obs arrow and outer arrow are equal, the observer starts seeing the photons emitted from electron\n",
    "        #When the slopes of the obs arrow and inner arrow are equal the observer stops seeing the photons emitted from electron\n",
    "        t1stop = 0\n",
    "        t2stop=0\n",
    "        for t in np.arange(PI/2,3*PI,0.001):\n",
    "            \n",
    "            if leftslope(t) <= obslope(t)+0.01 and leftslope(t) >= obslope(t)-0.01 and t1stop==0:\n",
    "                t1=t\n",
    "                t1stop=1\n",
    "                print(obslope(t),leftslope(t))\n",
    "            if rightslope(t) <= obslope(t)+0.01 and rightslope(t) >= obslope(t)-0.01 and t2stop==0:\n",
    "                t2=t\n",
    "                t2stop=1\n",
    "            \n",
    "            \n",
    "\n",
    "        print(t1,t2)\n",
    "        \n",
    "        t_param = ValueTracker(0)\n",
    "        velarrow = always_redraw(lambda: Arrow( start = r(t_param.get_value()), end = r(t_param.get_value())+2*r90(t_param.get_value())/np.linalg.norm(r90(t_param.get_value())), color = WHITE,buff=0,max_tip_length_to_length_ratio=0.1)) #The initial placement of the velocity arrow\n",
    "        electron = always_redraw(lambda: Dot(point=r(t_param.get_value()), color=RED))\n",
    "        beam = always_redraw(lambda: Polygon(r(t_param.get_value()),r(t_param.get_value())+triangle_len*rightr(t_param.get_value()),r(t_param.get_value())+triangle_len*leftr(t_param.get_value()),color=GREEN,fill_opacity=0.3))\n",
    "        observed_path = TracedPath(electron.get_center, stroke_color=BLUE, stroke_width=5)\n",
    "        veltext = always_redraw(lambda: MathTex(r\"\\vec{v}\",color=WHITE).next_to(velarrow,velarrow.get_center()-electron.get_center(),buff=0.1))\n",
    "        \n",
    "        \n",
    "        obstext = Tex(\"Observer\").next_to(observer,RIGHT,buff=0.1).scale(0.5)\n",
    "\n",
    "        self.add(VGroup(axes,curve,electron,velarrow,beam),intomaggroup,veltext)\n",
    "        self.add(observer,obstext)\n",
    "        self.wait(1)\n",
    "        self.play(t_param.animate.set_value(t1),rate_func = linear,run_time=t1,lag_ratio=0)\n",
    "        self.add(observed_path)\n",
    "        self.play(t_param.animate.set_value(t2),rate_func = linear,run_time=t2-t1,lag_ratio=0)\n",
    "        observed_path.clear_updaters()\n",
    "        self.play(t_param.animate.set_value(2*PI),rate_func = linear,run_time=2*PI - t2,lag_ratio=0)\n",
    "        self.wait(1)"
   ]
  },
  {
   "cell_type": "code",
   "execution_count": 6,
   "metadata": {},
   "outputs": [
    {
     "name": "stderr",
     "output_type": "stream",
     "text": [
      "                                                                                              \r"
     ]
    },
    {
     "data": {
      "text/html": [
       "<video src=\"media\\jupyter\\beam3d@2023-08-08@14-00-35.mp4\" controls autoplay loop style=\"max-width: 60%;\"  >\n",
       "      Your browser does not support the <code>video</code> element.\n",
       "    </video>"
      ],
      "text/plain": [
       "<IPython.core.display.Video object>"
      ]
     },
     "metadata": {},
     "output_type": "display_data"
    }
   ],
   "source": [
    "%%manim beam3d\n",
    "''' then we generalize the vparralel and vperpendicular to the case of a general vector v\n",
    "This yields us a spiral and then we show the beaming effect of the spiral\n",
    "Do with a small vparralel and a large vparralel to show those effects\n",
    "'''\n",
    "'''I think im going to skip the ratiation power derivation and just show it, then look at omega cutoff'''\n",
    "\n",
    "class beam3d(ThreeDScene):\n",
    "    def construct(self):\n",
    "        rad=0.5\n",
    "        pitch_angle =15  #Degrees\n",
    "        z_vel = ValueTracker(0.05)\n",
    "        cone_height=5\n",
    "        cone_radius = np.tan(np.deg2rad(pitch_angle))*cone_height\n",
    "        axes = ThreeDAxes()\n",
    "\n",
    "        origin = axes.c2p(0,0,0)\n",
    "        observer = Dot3D(point=origin + (-4,1,2), color=WHITE)\n",
    "        \n",
    "\n",
    "        x1 = origin +rad*RIGHT\n",
    "        \n",
    "        r = lambda t: origin + (rad*np.cos(t), rad*np.sin(t),z_vel.get_value()*t) #Defines a parametric circle that starts on x-axis and rotates ccw\n",
    "        curve = always_redraw(lambda: ParametricFunction(r, color=RED, t_range=[0, 6*PI],stroke_width=1))\n",
    "        \n",
    "        def beam_cone_move(mobj):\n",
    "            beamdir = r(0.01+t_param.get_value())-r(t_param.get_value())\n",
    "            mobj.become(Cone(base_radius=cone_radius, height=cone_height,fill_color=GREEN, fill_opacity=0.3,stroke_opacity=0,direction=-beamdir).shift(r(t_param.get_value())))\n",
    "            \n",
    "        \n",
    "        t_param = ValueTracker(0)\n",
    "        #velarrow = always_redraw(lambda: Arrow( start = r(t_param.get_value()), end = r(0.01+t_param.get_value()), color = WHITE,buff=0,max_tip_length_to_length_ratio=0.1).scale(100)) #The initial placement of the velocity arrow\n",
    "        electron = always_redraw(lambda: Dot3D(point=r(t_param.get_value()), radius=0.1,color=RED))\n",
    "        obs = always_redraw(lambda: Arrow(start=r(t_param.get_value()), end=observer.get_center(), color=WHITE,buff=0.1,max_tip_length_to_length_ratio=0.05,stroke_width=1))\n",
    "        beam = Cone(stroke_opacity=0,fill_color=GREEN,fill_opacity=0.3).set(tip_pos=ORIGIN).add_updater(beam_cone_move)\n",
    "        \n",
    "        obstext = Tex(\"Observer\").next_to(observer,LEFT,buff=0.1).scale(0.5)\n",
    "        \n",
    "        ## Setting up the 2D case to show into the above 3D\n",
    "        #magfunc = lambda p: IN\n",
    "        #mag = VectorField(magfunc,color=RED)\n",
    "        \n",
    "        mag = Arrow3D(start=ORIGIN,end=(0,2,0),color=RED)\n",
    "        magtext = MathTex(r\"\\vec{B}_{uni}\",color=RED).next_to(mag,UP,buff=0.1).scale(0.5)\n",
    "        self.set_camera_orientation(phi=60 * DEGREES, theta=30* DEGREES)\n",
    "        self.add_fixed_in_frame_mobjects(obs,observer,obstext,mag,magtext)\n",
    "        self.add(VGroup(curve,electron,beam))\n",
    "        self.play(z_vel.animate.set_value(1),rate_func = linear,run_time=5,lag_ratio=0)\n",
    "\n",
    "        ''' \n",
    "        Consider adding a slider showing the z value\n",
    "        '''"
   ]
  },
  {
   "cell_type": "code",
   "execution_count": null,
   "metadata": {},
   "outputs": [],
   "source": [
    "%%manim dipole\n",
    "\n",
    "class dipole(Scene):\n",
    "    def construct(self):\n",
    "        planegroup = VGroup()\n",
    "        for i in range(6):\n",
    "            plane = NumberPlane(axis_config = {\"stroke_width\":0},\n",
    "                                background_line_style={\"stroke_color\":GRAY, \"stroke_opacity\":0.5})\n",
    "            plane.move_to(i*16*RIGHT)\n",
    "            planegroup.add(plane)\n",
    "        '''numberplane = NumberPlane(\n",
    "             axis_config = {\"stroke_width\":0},\n",
    "             background_line_style={\"stroke_color\":GRAY, \"stroke_opacity\":0.5}\n",
    "        )\n",
    "        numberplane.move_to(8*RIGHT)'''\n",
    "        A = 2\n",
    "        beta = ValueTracker(0)\n",
    "        gamma = lambda beta: 1/np.sqrt(1-beta**2)\n",
    "        #This is the initial function defining the dipole Radiation\n",
    "        #parinit = lambda theta: (A*np.sin(theta)**2*np.cos(theta),A*np.sin(theta)**2*np.sin(theta),0)\n",
    "\n",
    "        currentx = lambda beta: -7 +14*beta\n",
    "\n",
    "        newcos = lambda theta: (np.cos(theta)+ beta.get_value())/(1+beta.get_value()*np.cos(theta))\n",
    "        newsin = lambda theta: newcos(theta)*np.sin(theta)/(gamma(beta.get_value())*(np.cos(theta)+beta.get_value()))\n",
    "        #This is the new function defining the dipole Radiation after being beamed by vel v\n",
    "        powerperangle = lambda theta: (-A*newsin(theta)**2*np.cos(theta),A*newsin(theta)**2*np.sin(theta),0)\n",
    "        \n",
    "        \n",
    "    \n",
    "\n",
    "        electron = Dot(color=RED)\n",
    "        radiationintensity = always_redraw(lambda:ParametricFunction(powerperangle,\n",
    "                                            t_range = [0,2*PI], color =YELLOW,fill_opacity=0.1,stroke_width=1))\n",
    "\n",
    "        vel = always_redraw(lambda: Arrow(electron.get_center(),electron.get_center()+RIGHT*beta.get_value()*3,color=BLUE))\n",
    "        accel = Vector(RIGHT,color=GREEN)\n",
    "        acceltext = MathTex(r\"\\vec{a}\",color=GREEN).next_to(accel,UP,buff=0.1)\n",
    "        veltext = always_redraw(lambda: MathTex(r\"\\beta = \",str(round(beta.get_value(),2)),color=BLUE).next_to(accel,DOWN,buff=0.1))\n",
    "\n",
    "        planegroup.add_updater(lambda mobj: mobj.shift(beta.get_value()*LEFT)) #Showing movement from\n",
    "\n",
    "        self.add(accel,acceltext,planegroup)\n",
    "        self.add(electron,radiationintensity)\n",
    "        self.add(vel,veltext)\n",
    "        self.play(beta.animate.set_value(0.98),run_time=5,rate_func=rate_functions.linear)\n",
    "        self.wait(2)"
   ]
  }
 ],
 "metadata": {
  "kernelspec": {
   "display_name": ".venv",
   "language": "python",
   "name": "python3"
  },
  "language_info": {
   "codemirror_mode": {
    "name": "ipython",
    "version": 3
   },
   "file_extension": ".py",
   "mimetype": "text/x-python",
   "name": "python",
   "nbconvert_exporter": "python",
   "pygments_lexer": "ipython3",
   "version": "3.11.6"
  },
  "orig_nbformat": 4
 },
 "nbformat": 4,
 "nbformat_minor": 2
}
